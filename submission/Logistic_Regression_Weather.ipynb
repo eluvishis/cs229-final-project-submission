{
 "cells": [
  {
   "cell_type": "code",
   "execution_count": 1,
   "metadata": {},
   "outputs": [],
   "source": [
    "import pandas as pd\n",
    "import numpy as np\n",
    "from sklearn.linear_model import LogisticRegression\n",
    "from sklearn.preprocessing import MinMaxScaler, StandardScaler\n",
    "from sklearn.metrics import accuracy_score, confusion_matrix, classification_report"
   ]
  },
  {
   "cell_type": "code",
   "execution_count": 2,
   "metadata": {},
   "outputs": [
    {
     "data": {
      "text/html": [
       "<div>\n",
       "<style scoped>\n",
       "    .dataframe tbody tr th:only-of-type {\n",
       "        vertical-align: middle;\n",
       "    }\n",
       "\n",
       "    .dataframe tbody tr th {\n",
       "        vertical-align: top;\n",
       "    }\n",
       "\n",
       "    .dataframe thead th {\n",
       "        text-align: right;\n",
       "    }\n",
       "</style>\n",
       "<table border=\"1\" class=\"dataframe\">\n",
       "  <thead>\n",
       "    <tr style=\"text-align: right;\">\n",
       "      <th></th>\n",
       "      <th>VALUE_precip</th>\n",
       "      <th>PRIOR_precip</th>\n",
       "      <th>DPT (F)</th>\n",
       "      <th>DBT (F)</th>\n",
       "      <th>Wind Speed (m/s)</th>\n",
       "      <th>Wind Dir</th>\n",
       "      <th>Fire</th>\n",
       "    </tr>\n",
       "  </thead>\n",
       "  <tbody>\n",
       "    <tr>\n",
       "      <th>count</th>\n",
       "      <td>316709.000000</td>\n",
       "      <td>316709.000000</td>\n",
       "      <td>316709.000000</td>\n",
       "      <td>316709.000000</td>\n",
       "      <td>316709.000000</td>\n",
       "      <td>316709.000000</td>\n",
       "      <td>316709.000000</td>\n",
       "    </tr>\n",
       "    <tr>\n",
       "      <th>mean</th>\n",
       "      <td>0.073864</td>\n",
       "      <td>6922.632984</td>\n",
       "      <td>45.783545</td>\n",
       "      <td>61.272468</td>\n",
       "      <td>2.741261</td>\n",
       "      <td>213.151682</td>\n",
       "      <td>0.339722</td>\n",
       "    </tr>\n",
       "    <tr>\n",
       "      <th>std</th>\n",
       "      <td>0.380217</td>\n",
       "      <td>1616.715451</td>\n",
       "      <td>7.364200</td>\n",
       "      <td>12.650176</td>\n",
       "      <td>1.568361</td>\n",
       "      <td>57.310391</td>\n",
       "      <td>0.473616</td>\n",
       "    </tr>\n",
       "    <tr>\n",
       "      <th>min</th>\n",
       "      <td>-0.300000</td>\n",
       "      <td>3360.890000</td>\n",
       "      <td>32.000000</td>\n",
       "      <td>32.000000</td>\n",
       "      <td>0.000000</td>\n",
       "      <td>10.000000</td>\n",
       "      <td>0.000000</td>\n",
       "    </tr>\n",
       "    <tr>\n",
       "      <th>25%</th>\n",
       "      <td>0.000000</td>\n",
       "      <td>5303.200000</td>\n",
       "      <td>39.582500</td>\n",
       "      <td>51.822500</td>\n",
       "      <td>1.700000</td>\n",
       "      <td>171.250000</td>\n",
       "      <td>0.000000</td>\n",
       "    </tr>\n",
       "    <tr>\n",
       "      <th>50%</th>\n",
       "      <td>0.000000</td>\n",
       "      <td>7372.510000</td>\n",
       "      <td>45.387500</td>\n",
       "      <td>59.937500</td>\n",
       "      <td>2.429167</td>\n",
       "      <td>211.250000</td>\n",
       "      <td>0.000000</td>\n",
       "    </tr>\n",
       "    <tr>\n",
       "      <th>75%</th>\n",
       "      <td>0.000000</td>\n",
       "      <td>7968.970000</td>\n",
       "      <td>51.162500</td>\n",
       "      <td>69.552500</td>\n",
       "      <td>3.416667</td>\n",
       "      <td>256.250000</td>\n",
       "      <td>1.000000</td>\n",
       "    </tr>\n",
       "    <tr>\n",
       "      <th>max</th>\n",
       "      <td>42.200000</td>\n",
       "      <td>8619.710000</td>\n",
       "      <td>105.282500</td>\n",
       "      <td>110.915000</td>\n",
       "      <td>19.712500</td>\n",
       "      <td>849.208333</td>\n",
       "      <td>1.000000</td>\n",
       "    </tr>\n",
       "  </tbody>\n",
       "</table>\n",
       "</div>"
      ],
      "text/plain": [
       "        VALUE_precip   PRIOR_precip        DPT (F)        DBT (F)  \\\n",
       "count  316709.000000  316709.000000  316709.000000  316709.000000   \n",
       "mean        0.073864    6922.632984      45.783545      61.272468   \n",
       "std         0.380217    1616.715451       7.364200      12.650176   \n",
       "min        -0.300000    3360.890000      32.000000      32.000000   \n",
       "25%         0.000000    5303.200000      39.582500      51.822500   \n",
       "50%         0.000000    7372.510000      45.387500      59.937500   \n",
       "75%         0.000000    7968.970000      51.162500      69.552500   \n",
       "max        42.200000    8619.710000     105.282500     110.915000   \n",
       "\n",
       "       Wind Speed (m/s)       Wind Dir           Fire  \n",
       "count     316709.000000  316709.000000  316709.000000  \n",
       "mean           2.741261     213.151682       0.339722  \n",
       "std            1.568361      57.310391       0.473616  \n",
       "min            0.000000      10.000000       0.000000  \n",
       "25%            1.700000     171.250000       0.000000  \n",
       "50%            2.429167     211.250000       0.000000  \n",
       "75%            3.416667     256.250000       1.000000  \n",
       "max           19.712500     849.208333       1.000000  "
      ]
     },
     "execution_count": 2,
     "metadata": {},
     "output_type": "execute_result"
    }
   ],
   "source": [
    "training_df = pd.read_csv('./data/weather/all_weather_data.csv')\n",
    "training_df.drop(columns=['Unnamed: 0', 'index', 'DATE'], inplace=True)\n",
    "training_df['VALUE_temp'] = training_df['VALUE_temp'].replace('---', np.nan)\n",
    "training_df.dropna(how='any', inplace=True)\n",
    "training_df.describe()"
   ]
  },
  {
   "cell_type": "markdown",
   "metadata": {},
   "source": [
    "Logistic Regression"
   ]
  },
  {
   "cell_type": "code",
   "execution_count": 3,
   "metadata": {},
   "outputs": [],
   "source": [
    "training_df = training_df.sample(frac=1).reset_index(drop=True)\n",
    "training_data = training_df.iloc[:int(len(training_df)*.7)]\n",
    "validation_data = training_df.iloc[int(len(training_df)*.7):]"
   ]
  },
  {
   "cell_type": "code",
   "execution_count": 4,
   "metadata": {},
   "outputs": [
    {
     "name": "stdout",
     "output_type": "stream",
     "text": [
      "Validation Accuracy: 0.6980413206613831\n",
      "Validation Confusion Matrix:\n",
      " [[52646  9984]\n",
      " [18706 13677]]\n",
      "Validation Classification Report:\n",
      "               precision    recall  f1-score   support\n",
      "\n",
      "         0.0       0.74      0.84      0.79     62630\n",
      "         1.0       0.58      0.42      0.49     32383\n",
      "\n",
      "    accuracy                           0.70     95013\n",
      "   macro avg       0.66      0.63      0.64     95013\n",
      "weighted avg       0.68      0.70      0.68     95013\n",
      "\n"
     ]
    }
   ],
   "source": [
    "#Split data into X and y for model\n",
    "feature_columns = training_data.columns.drop('Fire') \n",
    "X_train = training_data[training_data.columns.drop('Fire')]\n",
    "y_train = training_data['Fire']\n",
    "\n",
    "X_val = validation_data[validation_data.columns.drop('Fire')]\n",
    "y_val = validation_data['Fire'] \n",
    "\n",
    "#Scaling\n",
    "scaler = MinMaxScaler()\n",
    "X_train_scaled = scaler.fit_transform(X_train)\n",
    "X_val_scaled = scaler.transform(X_val)\n",
    "\n",
    "#More iter?\n",
    "model = LogisticRegression(max_iter=500)\n",
    "model.fit(X_train_scaled, y_train)\n",
    "\n",
    "# Predict and assess the fit on validation data\n",
    "y_val_pred = model.predict(X_val_scaled)\n",
    "\n",
    "# Print evaluation metrics\n",
    "print(\"Validation Accuracy:\", accuracy_score(y_val, y_val_pred))\n",
    "print(\"Validation Confusion Matrix:\\n\", confusion_matrix(y_val, y_val_pred))\n",
    "print(\"Validation Classification Report:\\n\", classification_report(y_val, y_val_pred))\n"
   ]
  },
  {
   "cell_type": "markdown",
   "metadata": {},
   "source": [
    "75% of our data is no fire, let's resample to get a better understanding of how weather affects fires in particular"
   ]
  },
  {
   "cell_type": "code",
   "execution_count": 4,
   "metadata": {},
   "outputs": [
    {
     "data": {
      "text/html": [
       "<div>\n",
       "<style scoped>\n",
       "    .dataframe tbody tr th:only-of-type {\n",
       "        vertical-align: middle;\n",
       "    }\n",
       "\n",
       "    .dataframe tbody tr th {\n",
       "        vertical-align: top;\n",
       "    }\n",
       "\n",
       "    .dataframe thead th {\n",
       "        text-align: right;\n",
       "    }\n",
       "</style>\n",
       "<table border=\"1\" class=\"dataframe\">\n",
       "  <thead>\n",
       "    <tr style=\"text-align: right;\">\n",
       "      <th></th>\n",
       "      <th>VALUE_precip</th>\n",
       "      <th>PRIOR_precip</th>\n",
       "      <th>DPT (F)</th>\n",
       "      <th>DBT (F)</th>\n",
       "      <th>Wind Speed (m/s)</th>\n",
       "      <th>Wind Dir</th>\n",
       "      <th>Fire</th>\n",
       "    </tr>\n",
       "  </thead>\n",
       "  <tbody>\n",
       "    <tr>\n",
       "      <th>count</th>\n",
       "      <td>212151.000000</td>\n",
       "      <td>212151.000000</td>\n",
       "      <td>212151.000000</td>\n",
       "      <td>212151.000000</td>\n",
       "      <td>212151.000000</td>\n",
       "      <td>212151.000000</td>\n",
       "      <td>212151.000000</td>\n",
       "    </tr>\n",
       "    <tr>\n",
       "      <th>mean</th>\n",
       "      <td>0.067439</td>\n",
       "      <td>7132.457471</td>\n",
       "      <td>46.022307</td>\n",
       "      <td>61.788064</td>\n",
       "      <td>2.672169</td>\n",
       "      <td>212.344105</td>\n",
       "      <td>0.507153</td>\n",
       "    </tr>\n",
       "    <tr>\n",
       "      <th>std</th>\n",
       "      <td>0.330081</td>\n",
       "      <td>1527.581532</td>\n",
       "      <td>7.573168</td>\n",
       "      <td>12.871190</td>\n",
       "      <td>1.536407</td>\n",
       "      <td>57.743709</td>\n",
       "      <td>0.499950</td>\n",
       "    </tr>\n",
       "    <tr>\n",
       "      <th>min</th>\n",
       "      <td>-0.200000</td>\n",
       "      <td>3360.890000</td>\n",
       "      <td>32.075000</td>\n",
       "      <td>32.000000</td>\n",
       "      <td>0.000000</td>\n",
       "      <td>10.000000</td>\n",
       "      <td>0.000000</td>\n",
       "    </tr>\n",
       "    <tr>\n",
       "      <th>25%</th>\n",
       "      <td>0.000000</td>\n",
       "      <td>6653.160000</td>\n",
       "      <td>39.627500</td>\n",
       "      <td>52.025000</td>\n",
       "      <td>1.650000</td>\n",
       "      <td>170.416667</td>\n",
       "      <td>0.000000</td>\n",
       "    </tr>\n",
       "    <tr>\n",
       "      <th>50%</th>\n",
       "      <td>0.000000</td>\n",
       "      <td>7372.510000</td>\n",
       "      <td>45.605000</td>\n",
       "      <td>60.537500</td>\n",
       "      <td>2.383333</td>\n",
       "      <td>210.833333</td>\n",
       "      <td>1.000000</td>\n",
       "    </tr>\n",
       "    <tr>\n",
       "      <th>75%</th>\n",
       "      <td>0.000000</td>\n",
       "      <td>8619.710000</td>\n",
       "      <td>51.597500</td>\n",
       "      <td>70.407500</td>\n",
       "      <td>3.337500</td>\n",
       "      <td>255.416667</td>\n",
       "      <td>1.000000</td>\n",
       "    </tr>\n",
       "    <tr>\n",
       "      <th>max</th>\n",
       "      <td>42.200000</td>\n",
       "      <td>8619.710000</td>\n",
       "      <td>105.282500</td>\n",
       "      <td>110.915000</td>\n",
       "      <td>19.712500</td>\n",
       "      <td>849.208333</td>\n",
       "      <td>1.000000</td>\n",
       "    </tr>\n",
       "  </tbody>\n",
       "</table>\n",
       "</div>"
      ],
      "text/plain": [
       "        VALUE_precip   PRIOR_precip        DPT (F)        DBT (F)  \\\n",
       "count  212151.000000  212151.000000  212151.000000  212151.000000   \n",
       "mean        0.067439    7132.457471      46.022307      61.788064   \n",
       "std         0.330081    1527.581532       7.573168      12.871190   \n",
       "min        -0.200000    3360.890000      32.075000      32.000000   \n",
       "25%         0.000000    6653.160000      39.627500      52.025000   \n",
       "50%         0.000000    7372.510000      45.605000      60.537500   \n",
       "75%         0.000000    8619.710000      51.597500      70.407500   \n",
       "max        42.200000    8619.710000     105.282500     110.915000   \n",
       "\n",
       "       Wind Speed (m/s)       Wind Dir           Fire  \n",
       "count     212151.000000  212151.000000  212151.000000  \n",
       "mean           2.672169     212.344105       0.507153  \n",
       "std            1.536407      57.743709       0.499950  \n",
       "min            0.000000      10.000000       0.000000  \n",
       "25%            1.650000     170.416667       0.000000  \n",
       "50%            2.383333     210.833333       1.000000  \n",
       "75%            3.337500     255.416667       1.000000  \n",
       "max           19.712500     849.208333       1.000000  "
      ]
     },
     "execution_count": 4,
     "metadata": {},
     "output_type": "execute_result"
    }
   ],
   "source": [
    "null_case = training_df[training_df['Fire']== 0]\n",
    "null_case = null_case.sample(frac=1)\n",
    "idxs = null_case.iloc[:int(len(null_case)/2)].index.to_list()\n",
    "resampled = training_df.drop(idxs)\n",
    "resampled.describe()"
   ]
  },
  {
   "cell_type": "code",
   "execution_count": 5,
   "metadata": {},
   "outputs": [],
   "source": [
    "resampled = resampled.sample(frac=1).reset_index(drop=True)\n",
    "resampled_train = resampled.iloc[:int(len(resampled)*.7)]\n",
    "resampled_val = resampled.iloc[int(len(resampled)*.7):]"
   ]
  },
  {
   "cell_type": "code",
   "execution_count": 9,
   "metadata": {},
   "outputs": [
    {
     "name": "stdout",
     "output_type": "stream",
     "text": [
      "Validation Accuracy: 0.6973415454231217\n",
      "Validation Confusion Matrix:\n",
      " [[18617 12674]\n",
      " [ 6589 25766]]\n",
      "Validation Classification Report:\n",
      "               precision    recall  f1-score   support\n",
      "\n",
      "         0.0       0.74      0.59      0.66     31291\n",
      "         1.0       0.67      0.80      0.73     32355\n",
      "\n",
      "    accuracy                           0.70     63646\n",
      "   macro avg       0.70      0.70      0.69     63646\n",
      "weighted avg       0.70      0.70      0.69     63646\n",
      "\n"
     ]
    }
   ],
   "source": [
    "#Split data into X and y for model\n",
    "feature_columns = resampled_train.columns.drop('Fire') \n",
    "X_train = resampled_train[resampled_train.columns.drop('Fire')]\n",
    "y_train = resampled_train['Fire']\n",
    "\n",
    "X_val = resampled_val[resampled_val.columns.drop('Fire')]\n",
    "y_val = resampled_val['Fire'] \n",
    "\n",
    "#Scaling\n",
    "scaler = MinMaxScaler()\n",
    "X_train_scaled = scaler.fit_transform(X_train)\n",
    "X_val_scaled = scaler.transform(X_val)\n",
    "\n",
    "#More iter?\n",
    "model = LogisticRegression(max_iter=500)\n",
    "model.fit(X_train_scaled, y_train)\n",
    "\n",
    "# Predict and assess the fit on validation data\n",
    "y_val_pred = model.predict(X_val_scaled)\n",
    "\n",
    "# Print evaluation metrics\n",
    "print(\"Validation Accuracy:\", accuracy_score(y_val, y_val_pred))\n",
    "print(\"Validation Confusion Matrix:\\n\", confusion_matrix(y_val, y_val_pred))\n",
    "print(\"Validation Classification Report:\\n\", classification_report(y_val, y_val_pred))"
   ]
  },
  {
   "cell_type": "markdown",
   "metadata": {},
   "source": [
    "Try RF Classification"
   ]
  },
  {
   "cell_type": "code",
   "execution_count": 10,
   "metadata": {},
   "outputs": [],
   "source": [
    "from sklearn.ensemble import RandomForestClassifier\n",
    "from xgboost import XGBClassifier"
   ]
  },
  {
   "cell_type": "code",
   "execution_count": 28,
   "metadata": {},
   "outputs": [
    {
     "name": "stdout",
     "output_type": "stream",
     "text": [
      "Validation Accuracy: 0.886355780410395\n",
      "Validation Confusion Matrix:\n",
      " [[27710  3679]\n",
      " [ 3554 28703]]\n",
      "Validation Classification Report:\n",
      "               precision    recall  f1-score   support\n",
      "\n",
      "         0.0       0.89      0.88      0.88     31389\n",
      "         1.0       0.89      0.89      0.89     32257\n",
      "\n",
      "    accuracy                           0.89     63646\n",
      "   macro avg       0.89      0.89      0.89     63646\n",
      "weighted avg       0.89      0.89      0.89     63646\n",
      "\n"
     ]
    }
   ],
   "source": [
    "model = RandomForestClassifier(random_state=42) #Set seed for reproducability\n",
    "\n",
    "\n",
    "\n",
    "model.fit(X_train_scaled, y_train)\n",
    "\n",
    "# Predict and assess the fit on validation data\n",
    "y_val_pred = model.predict(X_val_scaled)\n",
    "\n",
    "# Print evaluation metrics\n",
    "print(\"Validation Accuracy:\", accuracy_score(y_val, y_val_pred))\n",
    "print(\"Validation Confusion Matrix:\\n\", confusion_matrix(y_val, y_val_pred))\n",
    "print(\"Validation Classification Report:\\n\", classification_report(y_val, y_val_pred))"
   ]
  },
  {
   "cell_type": "markdown",
   "metadata": {},
   "source": [
    "Try Gradient Boosting"
   ]
  },
  {
   "cell_type": "code",
   "execution_count": 20,
   "metadata": {},
   "outputs": [
    {
     "name": "stdout",
     "output_type": "stream",
     "text": [
      "Validation Accuracy: 0.8278132168557333\n",
      "Validation Confusion Matrix:\n",
      " [[23914  7483]\n",
      " [ 3476 28773]]\n",
      "Validation Classification Report:\n",
      "               precision    recall  f1-score   support\n",
      "\n",
      "         0.0       0.87      0.76      0.81     31397\n",
      "         1.0       0.79      0.89      0.84     32249\n",
      "\n",
      "    accuracy                           0.83     63646\n",
      "   macro avg       0.83      0.83      0.83     63646\n",
      "weighted avg       0.83      0.83      0.83     63646\n",
      "\n"
     ]
    }
   ],
   "source": [
    "model = XGBClassifier(random_state=42,  eval_metric='error')\n",
    "\n",
    "model.fit(X_train_scaled, y_train)\n",
    "\n",
    "# Predict and assess the fit on validation data\n",
    "y_val_pred = model.predict(X_val_scaled)\n",
    "\n",
    "# Print evaluation metrics\n",
    "print(\"Validation Accuracy:\", accuracy_score(y_val, y_val_pred))\n",
    "print(\"Validation Confusion Matrix:\\n\", confusion_matrix(y_val, y_val_pred))\n",
    "print(\"Validation Classification Report:\\n\", classification_report(y_val, y_val_pred))"
   ]
  },
  {
   "cell_type": "markdown",
   "metadata": {},
   "source": [
    "k-means"
   ]
  },
  {
   "cell_type": "code",
   "execution_count": 11,
   "metadata": {},
   "outputs": [],
   "source": [
    "from sklearn.cluster import KMeans"
   ]
  },
  {
   "cell_type": "code",
   "execution_count": 19,
   "metadata": {},
   "outputs": [
    {
     "name": "stdout",
     "output_type": "stream",
     "text": [
      "Validation Accuracy: 0.5460201740879238\n",
      "Validation Confusion Matrix:\n",
      " [[18243 13146]\n",
      " [15748 16509]]\n",
      "Validation Classification Report:\n",
      "               precision    recall  f1-score   support\n",
      "\n",
      "         0.0       0.54      0.58      0.56     31389\n",
      "         1.0       0.56      0.51      0.53     32257\n",
      "\n",
      "    accuracy                           0.55     63646\n",
      "   macro avg       0.55      0.55      0.55     63646\n",
      "weighted avg       0.55      0.55      0.55     63646\n",
      "\n"
     ]
    }
   ],
   "source": [
    "#Split data into X and y for model\n",
    "feature_columns = resampled_train.columns.drop('Fire') \n",
    "X_train = resampled_train[resampled_train.columns.drop('Fire')]\n",
    "y_train = resampled_train['Fire']\n",
    "\n",
    "X_val = resampled_val[resampled_val.columns.drop('Fire')]\n",
    "y_val = resampled_val['Fire'] \n",
    "\n",
    "#Scaling\n",
    "scaler = StandardScaler()\n",
    "X_train_scaled = scaler.fit_transform(X_train)\n",
    "X_val_scaled = scaler.transform(X_val)\n",
    "\n",
    "model = KMeans(n_clusters=2, random_state=42)\n",
    "model.fit(X_train_scaled, y_train)\n",
    "\n",
    "# Predict and assess the fit on validation data\n",
    "y_val_pred = model.predict(X_val_scaled)\n",
    "\n",
    "# Print evaluation metrics\n",
    "print(\"Validation Accuracy:\", accuracy_score(y_val, y_val_pred))\n",
    "print(\"Validation Confusion Matrix:\\n\", confusion_matrix(y_val, y_val_pred))\n",
    "print(\"Validation Classification Report:\\n\", classification_report(y_val, y_val_pred))"
   ]
  },
  {
   "cell_type": "markdown",
   "metadata": {},
   "source": [
    "GMM"
   ]
  },
  {
   "cell_type": "code",
   "execution_count": 20,
   "metadata": {},
   "outputs": [],
   "source": [
    "from sklearn.mixture import GaussianMixture"
   ]
  },
  {
   "cell_type": "code",
   "execution_count": 24,
   "metadata": {},
   "outputs": [
    {
     "name": "stdout",
     "output_type": "stream",
     "text": [
      "Validation Accuracy: 0.5324607987933255\n",
      "Validation Confusion Matrix:\n",
      " [[ 3787 27602]\n",
      " [ 2155 30102]]\n",
      "Validation Classification Report:\n",
      "               precision    recall  f1-score   support\n",
      "\n",
      "         0.0       0.64      0.12      0.20     31389\n",
      "         1.0       0.52      0.93      0.67     32257\n",
      "\n",
      "    accuracy                           0.53     63646\n",
      "   macro avg       0.58      0.53      0.44     63646\n",
      "weighted avg       0.58      0.53      0.44     63646\n",
      "\n"
     ]
    }
   ],
   "source": [
    "\n",
    "#Scaling\n",
    "scaler = MinMaxScaler()\n",
    "X_train_scaled = scaler.fit_transform(X_train)\n",
    "X_val_scaled = scaler.transform(X_val)\n",
    "\n",
    "model = GaussianMixture(n_components=2, random_state=42)\n",
    "model.fit(X_train_scaled, y_train)\n",
    "\n",
    "# Predict and assess the fit on validation data\n",
    "y_val_pred = model.predict(X_val_scaled)\n",
    "\n",
    "# Print evaluation metrics\n",
    "print(\"Validation Accuracy:\", accuracy_score(y_val, y_val_pred))\n",
    "print(\"Validation Confusion Matrix:\\n\", confusion_matrix(y_val, y_val_pred))\n",
    "print(\"Validation Classification Report:\\n\", classification_report(y_val, y_val_pred))"
   ]
  },
  {
   "cell_type": "code",
   "execution_count": 45,
   "metadata": {},
   "outputs": [
    {
     "name": "stdout",
     "output_type": "stream",
     "text": [
      "Validation Accuracy: 0.5465543789083367\n",
      "Validation Confusion Matrix:\n",
      " [[ 6946 24443]\n",
      " [ 4417 27840]]\n",
      "Validation Classification Report:\n",
      "               precision    recall  f1-score   support\n",
      "\n",
      "         0.0       0.61      0.22      0.32     31389\n",
      "         1.0       0.53      0.86      0.66     32257\n",
      "\n",
      "    accuracy                           0.55     63646\n",
      "   macro avg       0.57      0.54      0.49     63646\n",
      "weighted avg       0.57      0.55      0.49     63646\n",
      "\n"
     ]
    }
   ],
   "source": [
    "\n",
    "#Scaling\n",
    "scaler = StandardScaler()\n",
    "X_train_scaled = scaler.fit_transform(X_train)\n",
    "X_val_scaled = scaler.transform(X_val)\n",
    "\n",
    "model = GaussianMixture(n_components=2, random_state=42)\n",
    "model.fit(X_train)\n",
    "\n",
    "# Predict and assess the fit on validation data\n",
    "y_val_pred = model.predict(X_val)\n",
    "\n",
    "# Print evaluation metrics\n",
    "print(\"Validation Accuracy:\", accuracy_score(y_val, y_val_pred))\n",
    "print(\"Validation Confusion Matrix:\\n\", confusion_matrix(y_val, y_val_pred))\n",
    "print(\"Validation Classification Report:\\n\", classification_report(y_val, y_val_pred))"
   ]
  },
  {
   "cell_type": "markdown",
   "metadata": {},
   "source": [
    "GMM + RF"
   ]
  },
  {
   "cell_type": "code",
   "execution_count": 26,
   "metadata": {},
   "outputs": [],
   "source": [
    "from sklearn.mixture import GaussianMixture"
   ]
  },
  {
   "cell_type": "code",
   "execution_count": null,
   "metadata": {},
   "outputs": [],
   "source": [
    "gmm = GaussianMixture(n_components=2, random_state=42)  \n",
    "gmm.fit(X_train_scaled)\n",
    "\n",
    "\n",
    "gmm_train_clusters = gmm.predict(X_train_scaled)       \n",
    "gmm_train_probs = gmm.predict_proba(X_train_scaled) \n",
    "\n",
    "\n",
    "gmm_val_clusters = gmm.predict(X_val_scaled)\n",
    "gmm_val_probs = gmm.predict_proba(X_val_scaled)"
   ]
  },
  {
   "cell_type": "code",
   "execution_count": 44,
   "metadata": {},
   "outputs": [
    {
     "name": "stdout",
     "output_type": "stream",
     "text": [
      "X_train_augmented shape: (148505, 10)\n",
      "X_val_augmented shape: (63646, 10)\n"
     ]
    }
   ],
   "source": [
    "# Add GMM features to training set\n",
    "X_train_augmented = np.concatenate(\n",
    "    [X_train, gmm_train_clusters[:, np.newaxis], gmm_train_probs], axis=1\n",
    ")\n",
    "\n",
    "# Add GMM features to validation set\n",
    "X_val_augmented = np.concatenate(\n",
    "    [X_val_scaled, gmm_val_clusters[:, np.newaxis], gmm_val_probs], axis=1\n",
    ")\n",
    "\n",
    "# Shapes after augmentation\n",
    "print(\"X_train_augmented shape:\", X_train_augmented.shape)\n",
    "print(\"X_val_augmented shape:\", X_val_augmented.shape)\n"
   ]
  },
  {
   "cell_type": "code",
   "execution_count": 46,
   "metadata": {},
   "outputs": [],
   "source": [
    "\n",
    "rf = RandomForestClassifier(random_state=42)\n",
    "rf.fit(X_train_augmented, y_train)\n",
    "\n",
    "# Predict on validation set\n",
    "rf_preds = rf.predict(X_val_augmented)\n",
    "rf_probs = rf.predict_proba(X_val_augmented)[:, 1]  \n"
   ]
  },
  {
   "cell_type": "code",
   "execution_count": null,
   "metadata": {},
   "outputs": [
    {
     "name": "stdout",
     "output_type": "stream",
     "text": [
      "Validation Accuracy: 0.5465072431888885\n",
      "Validation Confusion Matrix:\n",
      " [[ 6943 24446]\n",
      " [ 4417 27840]]\n",
      "Validation Classification Report:\n",
      "               precision    recall  f1-score   support\n",
      "\n",
      "         0.0       0.61      0.22      0.32     31389\n",
      "         1.0       0.53      0.86      0.66     32257\n",
      "\n",
      "    accuracy                           0.55     63646\n",
      "   macro avg       0.57      0.54      0.49     63646\n",
      "weighted avg       0.57      0.55      0.49     63646\n",
      "\n"
     ]
    }
   ],
   "source": [
    "# Weight the predictions from GMM and RF\n",
    "gmm_weights = 0.9\n",
    "rf_weights = 0.1\n",
    "\n",
    "\n",
    "ensemble_probs = (gmm_weights * gmm_val_probs[:, 1]) + (rf_weights * rf_probs)\n",
    "\n",
    "y_val_pred = (ensemble_probs > 0.5).astype(int) \n",
    "\n",
    "# Print evaluation metrics\n",
    "print(\"Validation Accuracy:\", accuracy_score(y_val, y_val_pred))\n",
    "print(\"Validation Confusion Matrix:\\n\", confusion_matrix(y_val, y_val_pred))\n",
    "print(\"Validation Classification Report:\\n\", classification_report(y_val, y_val_pred))\n"
   ]
  },
  {
   "cell_type": "markdown",
   "metadata": {},
   "source": [
    "Other models?"
   ]
  },
  {
   "cell_type": "code",
   "execution_count": 10,
   "metadata": {},
   "outputs": [],
   "source": [
    "from sklearn.ensemble import VotingClassifier\n",
    "from lightgbm import LGBMClassifier\n",
    "from sklearn.linear_model import LinearRegression, Ridge, Lasso, ElasticNet\n",
    "from sklearn.tree import DecisionTreeRegressor\n",
    "from sklearn.ensemble import RandomForestRegressor, GradientBoostingRegressor\n",
    "from xgboost import XGBRegressor\n",
    "from lightgbm import LGBMRegressor\n",
    "#from catboost import CatBoostRegressor\n",
    "from sklearn.svm import SVR\n",
    "from sklearn.neighbors import KNeighborsRegressor\n",
    "from sklearn.neighbors import KNeighborsClassifier\n"
   ]
  },
  {
   "cell_type": "code",
   "execution_count": 7,
   "metadata": {},
   "outputs": [],
   "source": [
    "#Split data into X and y for model\n",
    "feature_columns = resampled_train.columns.drop('Fire') \n",
    "X_train = resampled_train[resampled_train.columns.drop('Fire')]\n",
    "y_train = resampled_train['Fire']\n",
    "\n",
    "X_val = resampled_val[resampled_val.columns.drop('Fire')]\n",
    "y_val = resampled_val['Fire'] \n",
    "\n",
    "#Scaling\n",
    "scaler = StandardScaler()\n",
    "X_train_scaled = scaler.fit_transform(X_train)\n",
    "X_val_scaled = scaler.transform(X_val)\n"
   ]
  },
  {
   "cell_type": "code",
   "execution_count": 9,
   "metadata": {},
   "outputs": [
    {
     "data": {
      "text/plain": [
       "385.36346479654765"
      ]
     },
     "execution_count": 9,
     "metadata": {},
     "output_type": "execute_result"
    }
   ],
   "source": [
    "np.sqrt(148505)"
   ]
  },
  {
   "cell_type": "code",
   "execution_count": 12,
   "metadata": {},
   "outputs": [],
   "source": [
    "\n",
    "models = {\n",
    "    \"Linear Regression\": LinearRegression(),\n",
    "    \"Ridge\": Ridge(),\n",
    "    \"Lasso\": Lasso(),\n",
    "    \"ElasticNet\": ElasticNet(),\n",
    "    \"Decision Tree\": DecisionTreeRegressor(random_state=42),\n",
    "    \"Random Forest\": RandomForestRegressor(random_state=42),\n",
    "    \"Gradient Boosting\": GradientBoostingRegressor(random_state=42),\n",
    "    \"XGBoost\": XGBRegressor(random_state=42),\n",
    "    \"LightGBM\": LGBMRegressor(random_state=42),\n",
    "    #\"CatBoost\": CatBoostRegressor(random_state=42, verbose=0),\n",
    "    #\"SVR\": SVR(),\n",
    "    \"KNN Reg\": KNeighborsRegressor(),\n",
    "    \"KNN Class\": KNeighborsClassifier(n_neighbors=300)\n",
    "}\n"
   ]
  },
  {
   "cell_type": "code",
   "execution_count": 14,
   "metadata": {},
   "outputs": [
    {
     "name": "stdout",
     "output_type": "stream",
     "text": [
      "Model: Linear Regression\n",
      "Model: Ridge\n",
      "Model: Lasso\n",
      "Model: ElasticNet\n",
      "Model: Decision Tree\n",
      "Model: Random Forest\n",
      "Model: Gradient Boosting\n",
      "Model: XGBoost\n",
      "Model: LightGBM\n",
      "[LightGBM] [Info] Auto-choosing col-wise multi-threading, the overhead of testing was 0.005702 seconds.\n",
      "You can set `force_col_wise=true` to remove the overhead.\n",
      "[LightGBM] [Info] Total Bins 1389\n",
      "[LightGBM] [Info] Number of data points in the train set: 148505, number of used features: 7\n",
      "[LightGBM] [Info] Start training from score 0.507256\n",
      "Model: KNN Reg\n",
      "Model: KNN Class\n"
     ]
    },
    {
     "data": {
      "text/html": [
       "<div>\n",
       "<style scoped>\n",
       "    .dataframe tbody tr th:only-of-type {\n",
       "        vertical-align: middle;\n",
       "    }\n",
       "\n",
       "    .dataframe tbody tr th {\n",
       "        vertical-align: top;\n",
       "    }\n",
       "\n",
       "    .dataframe thead th {\n",
       "        text-align: right;\n",
       "    }\n",
       "</style>\n",
       "<table border=\"1\" class=\"dataframe\">\n",
       "  <thead>\n",
       "    <tr style=\"text-align: right;\">\n",
       "      <th></th>\n",
       "      <th>Model</th>\n",
       "      <th>Accuracy</th>\n",
       "    </tr>\n",
       "  </thead>\n",
       "  <tbody>\n",
       "    <tr>\n",
       "      <th>2</th>\n",
       "      <td>Lasso</td>\n",
       "      <td>0.506913</td>\n",
       "    </tr>\n",
       "    <tr>\n",
       "      <th>3</th>\n",
       "      <td>ElasticNet</td>\n",
       "      <td>0.506913</td>\n",
       "    </tr>\n",
       "    <tr>\n",
       "      <th>0</th>\n",
       "      <td>Linear Regression</td>\n",
       "      <td>0.702259</td>\n",
       "    </tr>\n",
       "    <tr>\n",
       "      <th>1</th>\n",
       "      <td>Ridge</td>\n",
       "      <td>0.702259</td>\n",
       "    </tr>\n",
       "    <tr>\n",
       "      <th>10</th>\n",
       "      <td>KNN Class</td>\n",
       "      <td>0.740738</td>\n",
       "    </tr>\n",
       "    <tr>\n",
       "      <th>6</th>\n",
       "      <td>Gradient Boosting</td>\n",
       "      <td>0.794928</td>\n",
       "    </tr>\n",
       "    <tr>\n",
       "      <th>8</th>\n",
       "      <td>LightGBM</td>\n",
       "      <td>0.812101</td>\n",
       "    </tr>\n",
       "    <tr>\n",
       "      <th>7</th>\n",
       "      <td>XGBoost</td>\n",
       "      <td>0.825362</td>\n",
       "    </tr>\n",
       "    <tr>\n",
       "      <th>9</th>\n",
       "      <td>KNN Reg</td>\n",
       "      <td>0.829023</td>\n",
       "    </tr>\n",
       "    <tr>\n",
       "      <th>4</th>\n",
       "      <td>Decision Tree</td>\n",
       "      <td>0.857886</td>\n",
       "    </tr>\n",
       "    <tr>\n",
       "      <th>5</th>\n",
       "      <td>Random Forest</td>\n",
       "      <td>0.888053</td>\n",
       "    </tr>\n",
       "  </tbody>\n",
       "</table>\n",
       "</div>"
      ],
      "text/plain": [
       "                Model  Accuracy\n",
       "2               Lasso  0.506913\n",
       "3          ElasticNet  0.506913\n",
       "0   Linear Regression  0.702259\n",
       "1               Ridge  0.702259\n",
       "10          KNN Class  0.740738\n",
       "6   Gradient Boosting  0.794928\n",
       "8            LightGBM  0.812101\n",
       "7             XGBoost  0.825362\n",
       "9             KNN Reg  0.829023\n",
       "4       Decision Tree  0.857886\n",
       "5       Random Forest  0.888053"
      ]
     },
     "execution_count": 14,
     "metadata": {},
     "output_type": "execute_result"
    }
   ],
   "source": [
    "results = []\n",
    "\n",
    "\n",
    "for name, model in models.items():\n",
    "    print(f\"Model: {name}\")\n",
    "   \n",
    "    model.fit(X_train_scaled, y_train)\n",
    "    \n",
    "    y_val_pred = model.predict(X_val_scaled)\n",
    "    y_val_pred = (y_val_pred> 0.5).astype(int) \n",
    "    \n",
    "    \n",
    "    results.append({\n",
    "        \"Model\": name,\n",
    "        \"Accuracy\": accuracy_score(y_val, y_val_pred),\n",
    "\n",
    "    })\n",
    "\n",
    "results_df = pd.DataFrame(results)\n",
    "results_df.sort_values(by=\"Accuracy\", ascending=True, inplace=True)\n",
    "\n",
    "results_df"
   ]
  }
 ],
 "metadata": {
  "kernelspec": {
   "display_name": "base",
   "language": "python",
   "name": "python3"
  },
  "language_info": {
   "codemirror_mode": {
    "name": "ipython",
    "version": 3
   },
   "file_extension": ".py",
   "mimetype": "text/x-python",
   "name": "python",
   "nbconvert_exporter": "python",
   "pygments_lexer": "ipython3",
   "version": "3.12.4"
  }
 },
 "nbformat": 4,
 "nbformat_minor": 2
}
